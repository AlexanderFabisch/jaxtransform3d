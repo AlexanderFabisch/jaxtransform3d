{
  "cells": [
    {
      "cell_type": "markdown",
      "metadata": {},
      "source": [
        "\n# Match Pointclouds\n"
      ]
    },
    {
      "cell_type": "code",
      "execution_count": null,
      "metadata": {
        "collapsed": false
      },
      "outputs": [],
      "source": [
        "import jax\nimport jax.numpy as jnp\nimport matplotlib.pyplot as plt\nimport numpy as np\nimport pytransform3d.transformations as pt\n\nimport jaxtransform3d.transformations as jt\n\nrng = np.random.default_rng(23)\npointcloud_A = jnp.asarray(rng.normal(size=(15, 3)))\nexp_coords_BA_actual = 0.3 * rng.normal(size=6)\nT_BA = jt.transform_from_exponential_coordinates(exp_coords_BA_actual)\npointcloud_B = jt.apply_transform(T_BA, pointcloud_A)\n\n\ndef error(exp_coords_BA):\n    T_BA = jt.transform_from_exponential_coordinates(exp_coords_BA)\n    pointcloud_B_expected = jt.apply_transform(T_BA, pointcloud_A)\n    return jnp.mean(jnp.linalg.norm(pointcloud_B - pointcloud_B_expected, axis=1))\n\n\nerror_vmap = lambda x: jax.vmap(error, in_axes=(0,))(x).sum()\nerror_with_grad = jax.jit(jax.value_and_grad(error_vmap))\n\nexp_coords_BA = jnp.asarray(rng.normal(size=(4, 6)))\n\nfor it in range(1000):\n    e, grad = error_with_grad(exp_coords_BA)\n    print(f\"{it=}, {e=:.3f}, {jnp.linalg.norm(grad)=:.3f}\")\n    if e == 0:\n        break\n    exp_coords_BA = exp_coords_BA - 0.005 * grad\n\nT_BA_estimated = jt.transform_from_exponential_coordinates(exp_coords_BA)\n\nprint(f\"{T_BA=}\")\nprint(f\"{T_BA_estimated=}\")\n\nplt.figure(figsize=(12, 6))\naxes = [\n    plt.subplot(2, len(exp_coords_BA) // 2, 1 + i, projection=\"3d\")\n    for i in range(len(exp_coords_BA))\n]\nfor ax, T_BA_estimated_i in zip(axes, T_BA_estimated):\n    pointcloud_B_estimated = jt.apply_transform(T_BA_estimated_i, pointcloud_A)\n    ax.scatter(\n        pointcloud_A[:, 0],\n        pointcloud_A[:, 1],\n        pointcloud_A[:, 2],\n        c=\"k\",\n        label=\"Untransformed\",\n    )\n    ax.scatter(\n        pointcloud_B[:, 0],\n        pointcloud_B[:, 1],\n        pointcloud_B[:, 2],\n        c=\"r\",\n        alpha=0.5,\n        s=50,\n        label=\"With actual transform\",\n    )\n    ax.scatter(\n        pointcloud_B_estimated[:, 0],\n        pointcloud_B_estimated[:, 1],\n        pointcloud_B_estimated[:, 2],\n        c=\"b\",\n        label=\"With estimated transform\",\n    )\n    pt.plot_transform(ax=ax, A2B=T_BA, name=\"Actual\", alpha=0.3, lw=5, s=1.2)\n    pt.plot_transform(ax=ax, A2B=T_BA_estimated_i, name=\"Estimated\")\n    plt.legend()\nplt.tight_layout()\nplt.show()"
      ]
    }
  ],
  "metadata": {
    "kernelspec": {
      "display_name": "Python 3",
      "language": "python",
      "name": "python3"
    },
    "language_info": {
      "codemirror_mode": {
        "name": "ipython",
        "version": 3
      },
      "file_extension": ".py",
      "mimetype": "text/x-python",
      "name": "python",
      "nbconvert_exporter": "python",
      "pygments_lexer": "ipython3",
      "version": "3.12.9"
    }
  },
  "nbformat": 4,
  "nbformat_minor": 0
}