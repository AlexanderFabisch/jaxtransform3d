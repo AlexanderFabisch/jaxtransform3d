{
  "cells": [
    {
      "cell_type": "markdown",
      "metadata": {},
      "source": [
        "\n# Find Similar Rotation\n"
      ]
    },
    {
      "cell_type": "code",
      "execution_count": null,
      "metadata": {
        "collapsed": false
      },
      "outputs": [],
      "source": [
        "import jax\nimport jax.numpy as jnp\nimport numpy as np\nimport pytransform3d.rotations as pr\n\nimport jaxtransform3d.rotations as jr\n\nrng = np.random.default_rng(20)\nq_true = jnp.asarray(pr.random_quaternion(rng))\n\n\ndef error(a):\n    q = jr.quaternion_from_compact_axis_angle(a)\n    q_diff = jr.compose_quaternions(jr.quaternion_conjugate(q), q_true)\n    return jnp.linalg.norm(jr.compact_axis_angle_from_quaternion(q_diff))\n\n\nerror_with_grad = jax.jit(jax.value_and_grad(error))\n\na = jnp.asarray(pr.random_compact_axis_angle(rng))\n\nfor it in range(1000):\n    e, grad = error_with_grad(a)\n    print(f\"{it=}, {e=:.3f}, {jnp.linalg.norm(grad)=:.3f}\")\n    if e == 0:\n        break\n    a = a - 0.01 * grad"
      ]
    }
  ],
  "metadata": {
    "kernelspec": {
      "display_name": "Python 3",
      "language": "python",
      "name": "python3"
    },
    "language_info": {
      "codemirror_mode": {
        "name": "ipython",
        "version": 3
      },
      "file_extension": ".py",
      "mimetype": "text/x-python",
      "name": "python",
      "nbconvert_exporter": "python",
      "pygments_lexer": "ipython3",
      "version": "3.12.9"
    }
  },
  "nbformat": 4,
  "nbformat_minor": 0
}