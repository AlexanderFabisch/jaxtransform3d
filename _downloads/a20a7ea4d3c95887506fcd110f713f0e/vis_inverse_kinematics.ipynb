{
  "cells": [
    {
      "cell_type": "markdown",
      "metadata": {},
      "source": [
        "\n# Inverse Kinematics and Product of Exponentials\n\nWe compute the inverse kinematics of a robot and visualize it. We use JAX'\nautomatic differentiation to compute the Jacobian of a robot based on the\nProduct of Exponentials formulation of forward kinematics. The inverse\nkinematics solver uses the Jacobian's pseudo-inverse.\n"
      ]
    },
    {
      "cell_type": "code",
      "execution_count": null,
      "metadata": {
        "collapsed": false
      },
      "outputs": [],
      "source": [
        "import os\nfrom functools import partial\n\nimport chex\nimport jax.numpy as jnp\nimport jax.random\nimport numpy as np\nimport pytransform3d.transformations as pt\nimport pytransform3d.visualizer as pv\nfrom pytransform3d.urdf import UrdfTransformManager\n\nimport jaxtransform3d.transformations as jt"
      ]
    },
    {
      "cell_type": "markdown",
      "metadata": {},
      "source": [
        "## Forward Kinematics\nThe end-effector's pose is computed based on the Product of Exponentials.\n\nThe complicated part of this example is the conversion of kinematics\nparameters from URDF data to screw axes that are needed for the product\nof exponentials formulation of forward kinematics.\n\n"
      ]
    },
    {
      "cell_type": "code",
      "execution_count": null,
      "metadata": {
        "collapsed": false
      },
      "outputs": [],
      "source": [
        "def get_screw_axes(\n    robot_urdf,\n    ee_frame,\n    base_frame,\n    joint_names,\n    mesh_path=None,\n    package_dir=None,\n):\n    \"\"\"Get screw axes of joints in space frame at robot's home position.\n\n    Parameters\n    ----------\n    robot_urdf : str\n        URDF description of robot\n\n    ee_frame : str\n        Name of the end-effector frame\n\n    base_frame : str\n        Name of the base frame\n\n    joint_names : list\n        Names of joints in order from base to end effector\n\n    mesh_path : str, optional (default: None)\n        Path in which we search for meshes that are defined in the URDF.\n        Meshes will be ignored if it is set to None and no 'package_dir'\n        is given.\n\n    package_dir : str, optional (default: None)\n        Some URDFs start file names with 'package://' to refer to the ROS\n        package in which these files (textures, meshes) are located. This\n        variable defines to which path this prefix will be resolved.\n\n    Returns\n    -------\n    tm : UrdfTransformManager\n        Robot graph.\n\n    ee2base_home : array, shape (4, 4)\n        The home configuration (position and orientation) of the\n        end-effector.\n\n    screw_axes_home : array, shape (n_joints, 6)\n        The joint screw axes in the space frame when the manipulator is at\n        the home position.\n\n    joint_limits : array, shape (n_joints, 2)\n        Joint limits: joint_limits[:, 0] contains the minimum values and\n        joint_limits[:, 1] contains the maximum values.\n    \"\"\"\n    tm = UrdfTransformManager()\n    tm.load_urdf(robot_urdf, mesh_path=mesh_path, package_dir=package_dir)\n\n    ee2base_home = tm.get_transform(ee_frame, base_frame)\n    screw_axes_home = []\n    for jn in joint_names:\n        ln, _, _, s_axis, limits, joint_type = tm._joints[jn]\n        link2base = tm.get_transform(ln, base_frame)\n        s_axis = np.dot(link2base[:3, :3], s_axis)\n        q = link2base[:3, 3]\n\n        if joint_type == \"revolute\":\n            h = 0.0\n        elif joint_type == \"prismatic\":\n            h = np.inf\n        else:\n            raise NotImplementedError(f\"Joint type {joint_type} not supported.\")\n\n        screw_axis = pt.screw_axis_from_screw_parameters(q, s_axis, h)\n        screw_axes_home.append(screw_axis)\n    screw_axes_home = np.vstack(screw_axes_home)\n\n    joint_limits = jnp.array([tm.get_joint_limits(jn) for jn in joint_names])\n\n    return tm, jnp.asarray(ee2base_home), jnp.asarray(screw_axes_home), joint_limits"
      ]
    },
    {
      "cell_type": "markdown",
      "metadata": {},
      "source": [
        "Once we have this information, the implementation of the product of\nexponentials is straightforward:\n\n1. We multiply the screw axis of each joint with the corresponding joint\n   angle to obtain the exponential coordinates of each relative joint\n   displacement.\n2. We concatenate the relative joint displacements and the base pose to\n   obtain the end-effector's pose.\n\n"
      ]
    },
    {
      "cell_type": "code",
      "execution_count": null,
      "metadata": {
        "collapsed": false
      },
      "outputs": [],
      "source": [
        "def product_of_exponentials(ee2base_home, screw_axes_home, joint_limits, thetas):\n    \"\"\"Compute probabilistic forward kinematics.\n\n    This is based on the probabilistic product of exponentials.\n\n    Parameters\n    ----------\n    ee2base_home : array, shape (4, 4)\n        The home configuration (position and orientation) of the\n        end-effector.\n\n    screw_axes_home : array, shape (n_joints, 6)\n        The joint screw axes in the space frame when the manipulator is at\n        the home position.\n\n    joint_limits : array, shape (n_joints, 2)\n        Joint limits: joint_limits[:, 0] contains the minimum values and\n        joint_limits[:, 1] contains the maximum values.\n\n    thetas : array, shape (n_joints,)\n        A list of joint coordinates.\n\n    Returns\n    -------\n    ee2base : array, shape (6,)\n        Exponential coordinates of transformation from end-effector to base.\n    \"\"\"\n    chex.assert_equal_shape_prefix((screw_axes_home, thetas), prefix_len=1)\n\n    thetas = jnp.clip(thetas, joint_limits[:, 0], joint_limits[:, 1])\n    exp_coords = screw_axes_home * thetas[:, jnp.newaxis]\n    joint_displacements = jt.transform_from_exponential_coordinates(exp_coords)\n\n    T = jnp.eye(4)\n    for joint_displacement in joint_displacements:\n        T = T @ joint_displacement\n    T = T @ ee2base_home\n\n    return jt.exponential_coordinates_from_transform(T)"
      ]
    },
    {
      "cell_type": "markdown",
      "metadata": {},
      "source": [
        "## Inverse Kinematics Solver\nWe define a callback to animate the visualization. At the beginning of each\nanimation, we sample a random goal.\nIn each frame, we compute one step of the numerical inverse kinematics\nsolver. We use the Jacobian pseudo-inverse to reduce the pose error. In\naddition, we perform a null-space projection to avoid getting close to the\njoint limits.\n\n"
      ]
    },
    {
      "cell_type": "code",
      "execution_count": null,
      "metadata": {
        "collapsed": false
      },
      "outputs": [],
      "source": [
        "def animation_callback(step, tm, graph, target_frame, joint_names):\n    global key, target, thetas\n\n    if step == 0:\n        key, sampling_key = jax.random.split(key, 2)\n        current_exp_coords = forward(thetas)\n        exp_coords = 0.9 * current_exp_coords + jnp.array(\n            [0.5] * 3 + [0.1] * 3\n        ) * jax.random.normal(sampling_key, shape=(6,))\n        target = jt.transform_from_exponential_coordinates(exp_coords)\n        target_frame.set_data(A2B=target)\n\n    # details: https://www.cs.cmu.edu/~15464-s13/lectures/lecture6/iksurvey.pdf\n    J = jac(thetas)\n    J_inv = jnp.linalg.pinv(J)\n    error = jt.exponential_coordinates_from_transform(target) - forward(thetas)\n    new_thetas = (\n        thetas\n        + 0.2 * J_inv @ error\n        + 0.05 * (jnp.eye(len(thetas)) - J_inv @ J) @ -thetas\n    )\n    if not jnp.any(jnp.isnan(new_thetas)):\n        thetas = jnp.clip(new_thetas, joint_limits[:, 0], joint_limits[:, 1])\n    print(thetas)\n\n    for joint_name, value in zip(joint_names, thetas, strict=False):\n        tm.set_joint(joint_name, value)\n    graph.set_data()\n\n    return graph, target_frame"
      ]
    },
    {
      "cell_type": "markdown",
      "metadata": {},
      "source": [
        "## Setup\nWe load the URDF file,\n\n"
      ]
    },
    {
      "cell_type": "code",
      "execution_count": null,
      "metadata": {
        "collapsed": false
      },
      "outputs": [],
      "source": [
        "BASE_DIR = \"data/\"\ndata_dir = BASE_DIR\nsearch_path = \".\"\nwhile not os.path.exists(data_dir) and os.path.dirname(search_path) != \"jaxtransform3d\":\n    search_path = os.path.join(search_path, \"..\")\n    data_dir = os.path.join(search_path, BASE_DIR)\nfilename = os.path.join(data_dir, \"robot_with_visuals.urdf\")\nwith open(filename) as f:\n    robot_urdf = f.read()"
      ]
    },
    {
      "cell_type": "markdown",
      "metadata": {},
      "source": [
        "define the kinematic chain that we are interested in,\n\n"
      ]
    },
    {
      "cell_type": "code",
      "execution_count": null,
      "metadata": {
        "collapsed": false
      },
      "outputs": [],
      "source": [
        "joint_names = [f\"joint{i}\" for i in range(1, 7)]\ntm, ee2base_home, screw_axes_home, joint_limits = get_screw_axes(\n    robot_urdf, \"tcp\", \"linkmount\", joint_names\n)"
      ]
    },
    {
      "cell_type": "markdown",
      "metadata": {},
      "source": [
        "define the Jacobian with JAX,\n\n"
      ]
    },
    {
      "cell_type": "code",
      "execution_count": null,
      "metadata": {
        "collapsed": false
      },
      "outputs": [],
      "source": [
        "forward = jax.jit(\n    partial(\n        product_of_exponentials,\n        ee2base_home,\n        screw_axes_home,\n        joint_limits,\n    )\n)\njac = jax.jit(jax.jacobian(forward))"
      ]
    },
    {
      "cell_type": "markdown",
      "metadata": {},
      "source": [
        "and define the joint angles.\n\n"
      ]
    },
    {
      "cell_type": "code",
      "execution_count": null,
      "metadata": {
        "collapsed": false
      },
      "outputs": [],
      "source": [
        "thetas = -0.5 * jnp.array([0.0, 1, 1, 1, 1, 1])\nfor joint_name, theta in zip(joint_names, thetas, strict=False):\n    tm.set_joint(joint_name, theta)\nkey = jax.random.PRNGKey(42)"
      ]
    },
    {
      "cell_type": "markdown",
      "metadata": {},
      "source": [
        "The following code visualizes the result.\n\n"
      ]
    },
    {
      "cell_type": "code",
      "execution_count": null,
      "metadata": {
        "collapsed": false
      },
      "outputs": [],
      "source": [
        "fig = pv.figure()\ngraph = fig.plot_graph(tm, \"robot_arm\", show_visuals=True)\ntarget = jnp.zeros(6)\ntarget_frame = fig.plot_transform(np.eye(4), s=0.3)\nfig.view_init(elev=5, azim=50)\nn_frames = 100\nif \"__file__\" in globals():\n    fig.animate(\n        animation_callback,\n        n_frames,\n        loop=True,\n        fargs=(tm, graph, target_frame, joint_names),\n    )\n    fig.show()\nelse:\n    fig.save_image(\"__open3d_rendered_image.jpg\")"
      ]
    }
  ],
  "metadata": {
    "kernelspec": {
      "display_name": "Python 3",
      "language": "python",
      "name": "python3"
    },
    "language_info": {
      "codemirror_mode": {
        "name": "ipython",
        "version": 3
      },
      "file_extension": ".py",
      "mimetype": "text/x-python",
      "name": "python",
      "nbconvert_exporter": "python",
      "pygments_lexer": "ipython3",
      "version": "3.12.9"
    }
  },
  "nbformat": 4,
  "nbformat_minor": 0
}