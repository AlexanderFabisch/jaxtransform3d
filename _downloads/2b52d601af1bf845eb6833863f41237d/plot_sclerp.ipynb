{
  "cells": [
    {
      "cell_type": "markdown",
      "metadata": {},
      "source": [
        "\n# Screw Linear Interpolation\n\nThis example shows interpolated trajectories between two random poses.\n"
      ]
    },
    {
      "cell_type": "code",
      "execution_count": null,
      "metadata": {
        "collapsed": false
      },
      "outputs": [],
      "source": [
        "import matplotlib.pyplot as plt\nimport numpy as np\nimport pytransform3d.plot_utils as ppu\nimport pytransform3d.trajectories as ptr\nimport pytransform3d.transformations as pt\n\nimport jaxtransform3d.transformations as jt"
      ]
    },
    {
      "cell_type": "markdown",
      "metadata": {},
      "source": [
        "## Setup\nWe generate two random transformation matrices to represent two poses\nbetween we want to interpolate. These will also be converted to dual\nquaternions, exponential coordinates, and position and quaternion.\n\n"
      ]
    },
    {
      "cell_type": "code",
      "execution_count": null,
      "metadata": {
        "collapsed": false
      },
      "outputs": [],
      "source": [
        "rng = np.random.default_rng(25)\npose1 = pt.random_transform(rng)\npose2 = pt.random_transform(rng)\ndual_quat1 = pt.dual_quaternion_from_transform(pose1)\ndual_quat2 = -pt.dual_quaternion_from_transform(pose2)\nexp_coords1 = pt.exponential_coordinates_from_transform(pose1)\nexp_coords2 = pt.exponential_coordinates_from_transform(pose2)\n\nn_steps = 100"
      ]
    },
    {
      "cell_type": "markdown",
      "metadata": {},
      "source": [
        "## Screw Linear Interpolation between Poses\nThe ground truth for interpolation of poses is a linear interpolation of\nrotation about and translation along the screw axis. We will represent the\ndifference between the two poses as exponential coordinates, a product of the\nscrew axis and the magnitude of the transformation. We can use fractions of\nthe exponential coordinates to smoothly interpolate between the two poses.\n\n"
      ]
    },
    {
      "cell_type": "code",
      "execution_count": null,
      "metadata": {
        "collapsed": false
      },
      "outputs": [],
      "source": [
        "pose12pose2 = jt.compose_transforms(jt.transform_inverse(pose1), pose2)\nexp_coords = pt.exponential_coordinates_from_transform(pose12pose2)\noffsets = ptr.transforms_from_exponential_coordinates(\n    exp_coords[np.newaxis] * np.linspace(0, 1, n_steps)[:, np.newaxis]\n)\ninterpolated_poses = ptr.concat_many_to_one(offsets, pose1)"
      ]
    },
    {
      "cell_type": "markdown",
      "metadata": {},
      "source": [
        "## Approximation: Linear Interpolation of Dual Quaternions\nAn approximately correct solution is linear interpolation and subsequent\nnormalization of dual quaternions. The problem with dual quaternions is that\nthey have a double cover and the path of the interpolation might be different\ndepending on which of the two representation of the pose is selected. In this\ncase the path does not match the ground truth path, but when we switch from\ndq1 to pt.dual_quaternion_double(dq1)---its alternative representation---the\ninterpolation path is very close to the ground truth.\n\n"
      ]
    },
    {
      "cell_type": "code",
      "execution_count": null,
      "metadata": {
        "collapsed": false
      },
      "outputs": [],
      "source": [
        "interpolated_dqs = (\n    np.linspace(1, 0, n_steps)[:, np.newaxis] * dual_quat1\n    + np.linspace(0, 1, n_steps)[:, np.newaxis] * dual_quat2\n)\n# renormalization (not required here because it will be done with conversion)\ninterpolated_dqs /= np.linalg.norm(interpolated_dqs[:, :4], axis=1)[:, np.newaxis]\ninterpolated_poses_from_dqs = ptr.transforms_from_dual_quaternions(interpolated_dqs)"
      ]
    },
    {
      "cell_type": "markdown",
      "metadata": {},
      "source": [
        "## Screw Linear Interpolation between Dual Quaternions\nDual quaternions also support screw linear interpolation (ScLERP) which is\nimplemented with the dual quaternion power. The dual quaternion power\nuses the screw parameters of the pose difference to smoothly interpolate\nalong the screw axis.\n\n"
      ]
    },
    {
      "cell_type": "code",
      "execution_count": null,
      "metadata": {
        "collapsed": false
      },
      "outputs": [],
      "source": [
        "pose12pose2 = jt.compose_dual_quaternions(\n    jt.dual_quaternion_quaternion_conjugate(dual_quat1), dual_quat2\n)\nexp_coords = jt.exponential_coordinates_from_dual_quaternion(pose12pose2)\noffsets = jt.dual_quaternion_from_exponential_coordinates(\n    exp_coords[np.newaxis] * np.linspace(0, 1, n_steps)[:, np.newaxis]\n)\ninterpolated_poses_dq_slerp = ptr.transforms_from_dual_quaternions(\n    jt.compose_dual_quaternions(\n        np.array([np.asarray(dual_quat1) for _ in range(len(offsets))]), offsets\n    )\n)"
      ]
    },
    {
      "cell_type": "markdown",
      "metadata": {},
      "source": [
        "## Approximation: Linear Interpolation of Exponential Coordinates\nA more crude approximation is the linear interpolation of exponential\ncoordinates.\n\n"
      ]
    },
    {
      "cell_type": "code",
      "execution_count": null,
      "metadata": {
        "collapsed": false
      },
      "outputs": [],
      "source": [
        "interpolated_ecs = (\n    np.linspace(1, 0, n_steps)[:, np.newaxis] * exp_coords1\n    + np.linspace(0, 1, n_steps)[:, np.newaxis] * exp_coords2\n)\ninterpolates_poses_from_ecs = ptr.transforms_from_exponential_coordinates(\n    interpolated_ecs\n)"
      ]
    },
    {
      "cell_type": "markdown",
      "metadata": {},
      "source": [
        "## Plotting\nWe show all solutions in one 3D plot.\n\n"
      ]
    },
    {
      "cell_type": "code",
      "execution_count": null,
      "metadata": {
        "collapsed": false
      },
      "outputs": [],
      "source": [
        "ax = pt.plot_transform(A2B=pose1, s=0.3, ax_s=2)\npt.plot_transform(A2B=pose2, s=0.3, ax=ax)\ntraj = ppu.Trajectory(\n    interpolated_poses, s=0.1, c=\"k\", lw=5, alpha=0.5, show_direction=True\n)\ntraj.add_trajectory(ax)\ntraj_from_dqs = ppu.Trajectory(\n    interpolated_poses_from_dqs, s=0.1, c=\"g\", show_direction=False\n)\ntraj_from_dqs.add_trajectory(ax)\ntraj_from_ecs = ppu.Trajectory(\n    interpolates_poses_from_ecs, s=0.1, c=\"r\", show_direction=False\n)\ntraj_from_ecs.add_trajectory(ax)\ntraj_from_dqs_sclerp = ppu.Trajectory(\n    interpolated_poses_dq_slerp, s=0.1, c=\"b\", show_direction=False\n)\ntraj_from_dqs_sclerp.add_trajectory(ax)\nplt.legend(\n    [\n        traj.trajectory,\n        traj_from_dqs.trajectory,\n        traj_from_ecs.trajectory,\n        traj_from_dqs_sclerp.trajectory,\n    ],\n    [\n        \"Transformation matrix ScLERP\",\n        \"Linear dual quaternion interpolation\",\n        \"Linear interpolation of exp. coordinates\",\n        \"Dual quaternion ScLERP\",\n    ],\n    loc=\"best\",\n)\nplt.show()"
      ]
    }
  ],
  "metadata": {
    "kernelspec": {
      "display_name": "Python 3",
      "language": "python",
      "name": "python3"
    },
    "language_info": {
      "codemirror_mode": {
        "name": "ipython",
        "version": 3
      },
      "file_extension": ".py",
      "mimetype": "text/x-python",
      "name": "python",
      "nbconvert_exporter": "python",
      "pygments_lexer": "ipython3",
      "version": "3.12.9"
    }
  },
  "nbformat": 4,
  "nbformat_minor": 0
}