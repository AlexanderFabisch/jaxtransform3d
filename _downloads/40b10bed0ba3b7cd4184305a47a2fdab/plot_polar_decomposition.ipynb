{
  "cells": [
    {
      "cell_type": "markdown",
      "metadata": {},
      "source": [
        "\n# Plot Polar Decomposition\n\nRobust polar decomposition orthonormalizes basis vectors (i.e., rotation\nmatrices). It is more expensive than standard Gram-Schmidt orthonormalization,\nbut it spreads the error more evenly over all basis vectors. The top row of\nthese plots shows the unnormalized bases that were obtained by randomly\nrotating one of the columns of the identity matrix. The middle row shows\nGram-Schmidt orthonormalization and the bottom row shows orthonormalization\nthrough robust polar decomposition. For comparison, we show the unnormalized\nbasis with dashed lines in the last two rows.\n"
      ]
    },
    {
      "cell_type": "code",
      "execution_count": null,
      "metadata": {
        "collapsed": false
      },
      "outputs": [],
      "source": [
        "import time\nfrom functools import partial\n\nimport jax\nimport jax.numpy as jnp\nimport matplotlib.pyplot as plt\nimport numpy as np\nimport pytransform3d.rotations as pr\n\nimport jaxtransform3d.rotations as jr\n\ngram_schmidt = jax.jit(jax.vmap(jr.norm_matrix, in_axes=0, out_axes=0))\nrobust_polar_decomposition = jax.jit(\n    jax.vmap(partial(jr.robust_polar_decomposition, n_iter=5), in_axes=0, out_axes=0)\n)\n\nstart = time.time()\ngram_schmidt(jnp.eye(3)[jnp.newaxis]).block_until_ready()\ngs_jit_time = time.time() - start\nstart = time.time()\nrobust_polar_decomposition(jnp.eye(3)[jnp.newaxis]).block_until_ready()\nrpd_jit_time = time.time() - start\n\nn_cases = 8\nfig, axes = plt.subplots(3, n_cases, subplot_kw={\"projection\": \"3d\"}, figsize=(14, 8))\nax_s = 1.0\nplot_center = jnp.array([-0.2, -0.2, -0.2])\nfor ax in axes.flat:\n    ax.set_xticks([])\n    ax.set_yticks([])\n    ax.set_zticks([])\n    ax.set_xlim(-ax_s, ax_s)\n    ax.set_ylim(-ax_s, ax_s)\n    ax.set_zlim(-ax_s, ax_s)\n\ntitles = [\"Unnormalized Bases\", \"Gram-Schmidt\", \"Polar Decomposition\"]\nfor ax, title in zip(axes[:, 0], titles, strict=False):\n    ax.set_title(title)\n\nrng = np.random.default_rng(46)\nR_unnormalized = jnp.array([jnp.eye(3) for _ in range(n_cases)])\nfor i in range(n_cases):\n    random_axis = rng.integers(0, 3)\n    R_unnormalized = R_unnormalized.at[i, :, random_axis].set(\n        jnp.dot(\n            pr.random_matrix(rng, cov=0.1 * jnp.eye(3)),\n            R_unnormalized[i, :, random_axis],\n        )\n    )\n\nstart = time.time()\nR_gs = gram_schmidt(R_unnormalized)\ngs_time = time.time() - start\n\nstart = time.time()\nR_rpd = robust_polar_decomposition(R_unnormalized)\nrpd_time = time.time() - start\n\nprint(f\"JIT-compiled Gram-Schmidt orthogonalization: {gs_jit_time:.5f} s\")\nprint(f\"JIT-compiled robust polar decomposition: {rpd_jit_time:.5f} s\")\nprint(f\"Gram-Schmidt orthogonalization: {gs_time:.5f} s\")\nprint(f\"Robost polar decomposition: {rpd_time:.5f} s\")\n\nfor i in range(n_cases):\n    pr.plot_basis(axes[0, i], R_unnormalized[i], p=plot_center, strict_check=False)\n\n    pr.plot_basis(\n        axes[1, i], R_unnormalized[i], p=plot_center, strict_check=False, ls=\"--\"\n    )\n    pr.plot_basis(axes[1, i], R_gs[i], p=plot_center)\n\n    pr.plot_basis(\n        axes[2, i], R_unnormalized[i], p=plot_center, strict_check=False, ls=\"--\"\n    )\n    pr.plot_basis(axes[2, i], R_rpd[i], p=plot_center)\n\nplt.tight_layout()\nplt.show()"
      ]
    }
  ],
  "metadata": {
    "kernelspec": {
      "display_name": "Python 3",
      "language": "python",
      "name": "python3"
    },
    "language_info": {
      "codemirror_mode": {
        "name": "ipython",
        "version": 3
      },
      "file_extension": ".py",
      "mimetype": "text/x-python",
      "name": "python",
      "nbconvert_exporter": "python",
      "pygments_lexer": "ipython3",
      "version": "3.12.9"
    }
  },
  "nbformat": 4,
  "nbformat_minor": 0
}